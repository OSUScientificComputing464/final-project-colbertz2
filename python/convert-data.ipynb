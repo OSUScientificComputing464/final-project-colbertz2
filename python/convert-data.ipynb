{
 "cells": [
  {
   "cell_type": "markdown",
   "metadata": {},
   "source": [
    "# Data Conversion\n",
    "### Final Project | PH 464\n",
    "\n",
    "Get data from Hamidieh's file `tc.RData` so we can learn from it later."
   ]
  },
  {
   "cell_type": "code",
   "execution_count": 2,
   "metadata": {},
   "outputs": [],
   "source": [
    "from rpy2.robjects import r, pandas2ri\n",
    "pandas2ri.activate()"
   ]
  },
  {
   "cell_type": "code",
   "execution_count": 66,
   "metadata": {},
   "outputs": [],
   "source": [
    "from os import path\n",
    "\n",
    "# Get path to the RData file\n",
    "df = path.abspath(\"../R/tc.RData\")\n",
    "\n",
    "# Spooky R function\n",
    "rdata = r['load'](df)\n",
    "\n",
    "# Extract data from R to pandas dataframes\n",
    "train = r['train']\n",
    "unique_m = r['unique_m']\n",
    "\n",
    "# Save data to CSV\n",
    "train.to_csv('train.csv')\n",
    "unique_m.to_csv('unique_m.csv')\n",
    "\n",
    "# Save data to Pickle (sounds like an easy type to read into a DF)\n",
    "train.to_pickle('train.pkl')\n",
    "unique_m.to_pickle('unique_m.pkl')"
   ]
  }
 ],
 "metadata": {
  "kernelspec": {
   "display_name": "Python 2",
   "language": "python",
   "name": "python2"
  },
  "language_info": {
   "codemirror_mode": {
    "name": "ipython",
    "version": 2
   },
   "file_extension": ".py",
   "mimetype": "text/x-python",
   "name": "python",
   "nbconvert_exporter": "python",
   "pygments_lexer": "ipython2",
   "version": "2.7.15"
  }
 },
 "nbformat": 4,
 "nbformat_minor": 2
}
